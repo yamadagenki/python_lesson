{
 "cells": [
  {
   "cell_type": "code",
   "execution_count": 94,
   "metadata": {},
   "outputs": [
    {
     "data": {
      "text/plain": [
       "sales                         0\n",
       "week                          0\n",
       "soldout                       0\n",
       "name                          0\n",
       "kcal                          0\n",
       "event                       155\n",
       "payday                        0\n",
       "weather                       0\n",
       "precipitation                 0\n",
       "temperature                   0\n",
       "month                         0\n",
       "day                           0\n",
       "period                        0\n",
       "temperature_diff              1\n",
       "temperature_rolling_mean      2\n",
       "temperature_pct_change        1\n",
       "dtype: int64"
      ]
     },
     "execution_count": 94,
     "metadata": {},
     "output_type": "execute_result"
    }
   ],
   "source": [
    "from IPython.display import HTML, display\n",
    "import tabulate\n",
    "import sys, codecs\n",
    "import pandas as pd\n",
    "\n",
    "df = pd.read_csv('../data/lunch_box.csv', sep=',')\n",
    "\n",
    "df.set_index('datetime', inplace=True)\n",
    "df.rename(columns={'y': 'sales'}, inplace=True)\n",
    "df.head()\n",
    "df.sort_values(by=\"sales\", ascending=True).head()\n",
    "df.sort_values(['sales', 'temperature'], ascending=False).head() \n",
    "df.index = pd.to_datetime(df.index, format='%Y-%m-%d')\n",
    "df.sort_index()\n",
    "df['month'] = list(pd.Series(df.index).apply(lambda x: x.month))\n",
    "df['day'] = list(pd.Series(df.index).apply(lambda x: x.day))\n",
    "labels = ['上旬', '中旬', '下旬']\n",
    "df['period'] = pd.cut(list(df['day']),  bins=[0,10,20,31], labels=labels, right=True)\n",
    "\n",
    "df.fillna(value={'payday': 0.0}, inplace=True)\n",
    "df.dropna(subset=['kcal'], axis=0, inplace=True)\n",
    "df['precipitation'] = df['precipitation'].replace('--', 0).astype(float)\n",
    "pd.DataFrame(df['sales'].mask(df['sales'] > 80, 100)).head()\n",
    "df.drop(['remarks'], axis=1, inplace=True)\n",
    "df['weather'].value_counts()\n",
    "\n",
    "df.groupby(['week'])['soldout'].count()\n",
    "df.groupby(['month', 'period'])['sales'].sum()\n",
    "df.groupby(['month', 'period'])['temperature'].mean()\n",
    "df['temperature_diff'] = df['temperature'].diff(periods=1)\n",
    "df[['temperature','temperature_diff']].head()\n",
    "df['temperature_rolling_mean'] = df['temperature'].rolling(window=3).mean()\n",
    "df[['temperature', 'temperature_diff', 'temperature_rolling_mean']]\n",
    "df['temperature_pct_change'] = df['temperature'].pct_change()\n",
    "df[['temperature', 'temperature_diff', 'temperature_rolling_mean', 'temperature_pct_change']].head()\n",
    "df.isnull().sum() \n"
   ]
  }
 ],
 "metadata": {
  "kernelspec": {
   "display_name": "Python 2",
   "language": "python",
   "name": "python2"
  },
  "language_info": {
   "codemirror_mode": {
    "name": "ipython",
    "version": 2
   },
   "file_extension": ".py",
   "mimetype": "text/x-python",
   "name": "python",
   "nbconvert_exporter": "python",
   "pygments_lexer": "ipython2",
   "version": "2.7.15"
  }
 },
 "nbformat": 4,
 "nbformat_minor": 2
}
