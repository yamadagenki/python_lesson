{
 "cells": [
  {
   "cell_type": "code",
   "execution_count": 41,
   "metadata": {},
   "outputs": [],
   "source": [
    "class SampleClassMethod:\n",
    "\n",
    "    @classmethod\n",
    "    def samle_method(cls):\n",
    "        print(\"sample\")\n",
    "\n",
    "class SampleClassMethod1:\n",
    "\n",
    "    @classmethod\n",
    "    def samle_method(cls):\n",
    "        print(\"sample1\")\n",
    "    \n",
    "\n",
    "def schema_class():\n",
    "    if False:\n",
    "        a = SampleClassMethod\n",
    "    else:\n",
    "        a = SampleClassMethod1\n",
    "    return a\n",
    "        \n",
    "class FeatureExtractorFromDisk:\n",
    "    def _get_feature_spec_factory():\n",
    "        if \"MODEL_TYPE\" not in os.environ:\n",
    "            feature_spec_factory = FeatureSpecFactory\n",
    "        elif os.environ[\"MODEL_TYPE\"] == 'apply_rate':\n",
    "            feature_spec_factory = ApplyRateFeatureSpecFactory\n",
    "        return feature_spec_factory\n",
    "\n",
    "    def __init__(self, resource_paths, n_jobs=1):\n",
    "        self.resource_paths = resource_paths         \n",
    "        self.vectorizers = _get_feature_spec_factory().create()\n",
    "        self.n_jobs = n_jobs\n"
   ]
  }
 ],
 "metadata": {
  "kernelspec": {
   "display_name": "Python 2",
   "language": "python",
   "name": "python2"
  },
  "language_info": {
   "codemirror_mode": {
    "name": "ipython",
    "version": 2
   },
   "file_extension": ".py",
   "mimetype": "text/x-python",
   "name": "python",
   "nbconvert_exporter": "python",
   "pygments_lexer": "ipython2",
   "version": "2.7.15"
  }
 },
 "nbformat": 4,
 "nbformat_minor": 2
}
