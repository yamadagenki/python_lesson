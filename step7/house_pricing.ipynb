{
 "cells": [
  {
   "cell_type": "code",
   "execution_count": 33,
   "metadata": {},
   "outputs": [],
   "source": [
    "import pandas as pd\n",
    "import numpy as np\n",
    "from sklearn import tree\n",
    "%matplotlib inline\n",
    "import seaborn\n",
    "seaborn.set()\n",
    "import re\n",
    "from IPython.display import display\n",
    "\n",
    "\n",
    "import warnings\n",
    "warnings.filterwarnings('ignore')\n",
    "\n",
    "def lack_table(df): \n",
    "    null_val = df.isnull().sum()\n",
    "    percent = 100 * null_val / len(df)\n",
    "    kesson_table = pd.concat([null_val, percent], axis=1)\n",
    "    kesson_table_ren_columns = kesson_table.rename(\n",
    "    columns = {0 : '欠損数', 1 : '%'})\n",
    "    return kesson_table_ren_columns\n",
    "\n",
    "\n",
    "train = pd.read_csv(\"./train.csv\")\n",
    "test = pd.read_csv(\"./test.csv\")\n",
    "\n",
    "train[\"LotFrontage\"] = train[\"LotFrontage\"].fillna(train[\"LotFrontage\"].median())\n",
    "test[\"LotFrontage\"] = test[\"LotFrontage\"].fillna(test[\"LotFrontage\"].median())\n",
    "\n",
    "train[\"MSSubClass\"] = (train[\"MSSubClass\"] / 10).astype(int) - 1\n",
    "\n",
    "target = train[\"SalePrice\"].values\n",
    "\n",
    "# 「train」の目的変数と説明変数の値を取得\n",
    "target = train[\"SalePrice\"].values\n",
    "features_one = train[[\"LotFrontage\", \"LotArea\", \"MSSubClass\"]].values\n",
    " \n",
    "# 決定木の作成\n",
    "my_tree_one = tree.DecisionTreeClassifier()\n",
    "my_tree_one = my_tree_one.fit(features_one, target)\n",
    "\n",
    "\n",
    "# # 「test」の説明変数の値を取得\n",
    "test_features = test[[\"LotFrontage\", \"LotArea\", \"MSSubClass\"]].values\n",
    "\n",
    "# # 「test」の説明変数を使って「my_tree_one」のモデルで予測\n",
    "my_prediction = my_tree_one.predict(test_features)\n",
    "  \n",
    "# PassengerIdを取得\n",
    "Id = np.array(test[\"Id\"]).astype(int)\n",
    "\n",
    "# my_prediction(予測データ）とPassengerIdをデータフレームへ落とし込む\n",
    "my_solution = pd.DataFrame(my_prediction, Id, columns = [\"SalePrice\"])\n",
    "\n",
    "my_solution.to_csv(\"my_tree_one.csv\", index_label = [\"Id\"])"
   ]
  }
 ],
 "metadata": {
  "kernelspec": {
   "display_name": "Python 2",
   "language": "python",
   "name": "python2"
  },
  "language_info": {
   "codemirror_mode": {
    "name": "ipython",
    "version": 2
   },
   "file_extension": ".py",
   "mimetype": "text/x-python",
   "name": "python",
   "nbconvert_exporter": "python",
   "pygments_lexer": "ipython2",
   "version": "2.7.15"
  }
 },
 "nbformat": 4,
 "nbformat_minor": 2
}
